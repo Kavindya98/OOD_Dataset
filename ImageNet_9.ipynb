{
 "cells": [
  {
   "cell_type": "code",
   "execution_count": 23,
   "id": "6aac76f9",
   "metadata": {},
   "outputs": [],
   "source": [
    "import gdown\n",
    "import tarfile\n",
    "import os\n",
    "import shutil\n",
    "import itertools\n",
    "import fnmatch\n",
    "from PIL import Image\n",
    "import time\n",
    "from tqdm import tqdm"
   ]
  },
  {
   "cell_type": "code",
   "execution_count": null,
   "id": "e0eef597",
   "metadata": {},
   "outputs": [],
   "source": []
  },
  {
   "cell_type": "code",
   "execution_count": 5,
   "id": "2352677e",
   "metadata": {},
   "outputs": [],
   "source": [
    "domain = [\n",
    "    \"mixed_rand\",\n",
    "    \"mixed_same\",\n",
    "    \"no_fg\",\n",
    "    \"mixed_next\",\n",
    "    \"only_fg\",\n",
    "    \"original\",\n",
    "]\n",
    "dest_domain = [\n",
    "    \"mixed_rand\",\n",
    "    \"mixed_same\",\n",
    "    \"no_fg\",\n",
    "    \"mixed_next\",\n",
    "    \"only_fg\",\n",
    "    \"original\",\n",
    "    \"original_val\"\n",
    "]\n",
    "val = [\"train\",\"val\"]\n"
   ]
  },
  {
   "cell_type": "code",
   "execution_count": 6,
   "id": "c61bd588",
   "metadata": {},
   "outputs": [
    {
     "ename": "FileNotFoundError",
     "evalue": "[Errno 2] No such file or directory: '/media/SSD2/Dataset/ImageNet_9/mixed_rand'",
     "output_type": "error",
     "traceback": [
      "\u001b[0;31m---------------------------------------------------------------------------\u001b[0m",
      "\u001b[0;31mFileNotFoundError\u001b[0m                         Traceback (most recent call last)",
      "Cell \u001b[0;32mIn[6], line 1\u001b[0m\n\u001b[0;32m----> 1\u001b[0m classes \u001b[38;5;241m=\u001b[39m os\u001b[38;5;241m.\u001b[39mlistdir(dest\u001b[38;5;241m+\u001b[39mdomain[\u001b[38;5;241m0\u001b[39m])\n\u001b[1;32m      2\u001b[0m classes\n",
      "\u001b[0;31mFileNotFoundError\u001b[0m: [Errno 2] No such file or directory: '/media/SSD2/Dataset/ImageNet_9/mixed_rand'"
     ]
    }
   ],
   "source": [
    "classes = os.listdir(dest+domain[0])\n",
    "classes"
   ]
  },
  {
   "cell_type": "code",
   "execution_count": 34,
   "id": "e7cd9aae",
   "metadata": {},
   "outputs": [
    {
     "ename": "AttributeError",
     "evalue": "'itertools.product' object has no attribute 'join'",
     "output_type": "error",
     "traceback": [
      "\u001b[0;31m---------------------------------------------------------------------------\u001b[0m",
      "\u001b[0;31mAttributeError\u001b[0m                            Traceback (most recent call last)",
      "Cell \u001b[0;32mIn[34], line 1\u001b[0m\n\u001b[0;32m----> 1\u001b[0m \u001b[38;5;28mlist\u001b[39m(\u001b[38;5;28mzip\u001b[39m(itertools\u001b[38;5;241m.\u001b[39mproduct(domain,[val[\u001b[38;5;241m0\u001b[39m]],classes)\u001b[38;5;241m.\u001b[39mjoin(\u001b[38;5;124m\"\u001b[39m\u001b[38;5;124m/\u001b[39m\u001b[38;5;124m\"\u001b[39m),itertools\u001b[38;5;241m.\u001b[39mproduct(domain,[val[\u001b[38;5;241m1\u001b[39m]],classes)\u001b[38;5;241m.\u001b[39mjoin(\u001b[38;5;124m\"\u001b[39m\u001b[38;5;124m/\u001b[39m\u001b[38;5;124m\"\u001b[39m)))\n",
      "\u001b[0;31mAttributeError\u001b[0m: 'itertools.product' object has no attribute 'join'"
     ]
    }
   ],
   "source": [
    "list(zip(itertools.product(domain[,[val[0]],classes),itertools.product(domain,[val[1]],classes).join(\"/\")))"
   ]
  },
  {
   "cell_type": "code",
   "execution_count": 64,
   "id": "9bf26c2c",
   "metadata": {},
   "outputs": [
    {
     "name": "stdout",
     "output_type": "stream",
     "text": [
      "source1 Done\n",
      "source2 Done\n",
      "5045 465 5510\n",
      "true\n",
      "source1 Done\n",
      "source2 Done\n",
      "5045 465 5509\n",
      "source1 Done\n",
      "source2 Done\n",
      "5045 465 5510\n",
      "true\n",
      "source1 Done\n",
      "source2 Done\n",
      "5045 465 5509\n",
      "source1 Done\n",
      "source2 Done\n",
      "5045 465 5510\n",
      "true\n",
      "source1 Done\n",
      "source2 Done\n",
      "5045 465 5510\n",
      "true\n",
      "source1 Done\n",
      "source2 Done\n",
      "5045 465 5509\n",
      "source1 Done\n",
      "source2 Done\n",
      "5045 465 5510\n",
      "true\n",
      "source1 Done\n",
      "source2 Done\n",
      "5045 465 5509\n"
     ]
    }
   ],
   "source": [
    "for i in zip(list(itertools.product([domain[5]],[val[0]],classes)),list(itertools.product([domain[5]],[val[1]],classes))):\n",
    "    src_directory1 = dest + \"/\".join(list(i[0]))\n",
    "    src_directory2 = dest + \"/\".join(list(i[1]))\n",
    "    dst_directory = dest+ \"/\".join([list(i[0])[0],list(i[0])[-1]])    \n",
    "    \n",
    "    #print(src_directory1,src_directory2,dst_directory)\n",
    "    os.mkdir(dst_directory)\n",
    "    for file in os.listdir(src_directory1):\n",
    "        src_file = os.path.join(src_directory1, file)\n",
    "        dst_file = os.path.join(dst_directory, file)\n",
    "        shutil.copy(src_file, dst_file)\n",
    "    print(\"source1 Done\")\n",
    "    for file in os.listdir(src_directory2):\n",
    "        src_file = os.path.join(src_directory2, file)\n",
    "        dst_file = os.path.join(dst_directory, file)\n",
    "        shutil.copy(src_file, dst_file)\n",
    "    print(\"source2 Done\")   \n",
    "\n",
    "    \n",
    "    count1 = len(fnmatch.filter(os.listdir(src_directory1), '*.*'))\n",
    "    count2 = len(fnmatch.filter(os.listdir(src_directory2), '*.*'))\n",
    "    count3 = len(fnmatch.filter(os.listdir(dst_directory), '*.*'))\n",
    "    print(count1,count2,count3)\n",
    "    if count3 == count1 + count2:\n",
    "        print(\"true\")"
   ]
  },
  {
   "cell_type": "code",
   "execution_count": 61,
   "id": "46516943",
   "metadata": {},
   "outputs": [
    {
     "name": "stdout",
     "output_type": "stream",
     "text": [
      "/media/SSD2/Dataset/ImageNet_9/original/train/05_insect /media/SSD2/Dataset/ImageNet_9/original/val/05_insect /media/SSD2/Dataset/ImageNet_9/original/05_insect\n",
      "5045 465 5509\n"
     ]
    }
   ],
   "source": [
    "src_directory1 = dest+\"/\".join([\"original\",\"train\",\"05_insect\"])\n",
    "src_directory2 = dest+\"/\".join([\"original\",\"val\",\"05_insect\"])\n",
    "dst_directory = dest+\"/\".join([\"original\",\"05_insect\"])\n",
    "count1 = len(fnmatch.filter(os.listdir(src_directory1), '*.*'))\n",
    "count2 = len(fnmatch.filter(os.listdir(src_directory2), '*.*'))\n",
    "count3 = len(fnmatch.filter(os.listdir(dst_directory), '*.*'))\n",
    "print(src_directory1,src_directory2,dst_directory)\n",
    "print(count1,count2,count3)"
   ]
  },
  {
   "cell_type": "code",
   "execution_count": 79,
   "id": "f05dfc38",
   "metadata": {},
   "outputs": [
    {
     "name": "stdout",
     "output_type": "stream",
     "text": [
      "/media/SSD2/Dataset/ImageNet_9/mixed_rand/02_wheeled vehicle_ 5509\n",
      "/media/SSD2/Dataset/ImageNet_9/mixed_rand/06_musical instrument_ 5509\n",
      "/media/SSD2/Dataset/ImageNet_9/mixed_rand/05_insect_ 5509\n",
      "/media/SSD2/Dataset/ImageNet_9/mixed_rand/08_fish_ 5509\n",
      "/media/SSD2/Dataset/ImageNet_9/mixed_same/02_wheeled vehicle_ 5509\n",
      "/media/SSD2/Dataset/ImageNet_9/mixed_same/06_musical instrument_ 5509\n",
      "/media/SSD2/Dataset/ImageNet_9/mixed_same/05_insect_ 5509\n",
      "/media/SSD2/Dataset/ImageNet_9/mixed_same/08_fish_ 5509\n",
      "/media/SSD2/Dataset/ImageNet_9/no_fg/02_wheeled vehicle_ 5509\n",
      "/media/SSD2/Dataset/ImageNet_9/no_fg/06_musical instrument_ 5509\n",
      "/media/SSD2/Dataset/ImageNet_9/no_fg/05_insect_ 5509\n",
      "/media/SSD2/Dataset/ImageNet_9/no_fg/08_fish_ 5509\n",
      "/media/SSD2/Dataset/ImageNet_9/mixed_next/02_wheeled vehicle_ 5509\n",
      "/media/SSD2/Dataset/ImageNet_9/mixed_next/06_musical instrument_ 5509\n",
      "/media/SSD2/Dataset/ImageNet_9/mixed_next/05_insect_ 5509\n",
      "/media/SSD2/Dataset/ImageNet_9/mixed_next/08_fish_ 5509\n",
      "/media/SSD2/Dataset/ImageNet_9/only_fg/02_wheeled vehicle_ 5509\n",
      "/media/SSD2/Dataset/ImageNet_9/only_fg/06_musical instrument_ 5509\n",
      "/media/SSD2/Dataset/ImageNet_9/only_fg/05_insect_ 5509\n",
      "/media/SSD2/Dataset/ImageNet_9/only_fg/08_fish_ 5509\n",
      "/media/SSD2/Dataset/ImageNet_9/original/02_wheeled vehicle_ 5509\n",
      "/media/SSD2/Dataset/ImageNet_9/original/06_musical instrument_ 5509\n",
      "/media/SSD2/Dataset/ImageNet_9/original/05_insect_ 5509\n",
      "/media/SSD2/Dataset/ImageNet_9/original/08_fish_ 5509\n"
     ]
    }
   ],
   "source": [
    "for i in list(itertools.product(domain,classes)):\n",
    "    #source = dest + \"/\".join(list(i))\n",
    "    destination = dest + \"/\".join(list(i)) \n",
    "    if len(list(os.listdir(destination))) != 5510:\n",
    "        print(destination, len(list(os.listdir(destination))))\n",
    "#     if not os.path.exists(destination):\n",
    "#         os.mkdir(destination)\n",
    "#         for file in os.listdir(source):\n",
    "#             im = Image.open(source+\"/\"+file)\n",
    "#             rgb_im = im.convert('RGB')\n",
    "#             rgb_im.save(destination+'/'+file.split(\".\")[0]+\".jpg\")\n",
    "#         if not len(list(os.listdir(source))) == len(list(os.listdir(destination))):\n",
    "#             print(source)\n",
    "#         else:\n",
    "#             shutil.rmtree(source)\n",
    "#             print(\"*\")\n",
    "#     else:\n",
    "#         print(\"Done\")\n",
    "        \n",
    "        "
   ]
  },
  {
   "cell_type": "code",
   "execution_count": null,
   "id": "88a0a5bc",
   "metadata": {},
   "outputs": [],
   "source": []
  },
  {
   "cell_type": "code",
   "execution_count": 26,
   "id": "b295d251",
   "metadata": {
    "scrolled": true
   },
   "outputs": [
    {
     "name": "stdout",
     "output_type": "stream",
     "text": [
      "('mixed_rand', 'train')\n",
      "('mixed_same', 'val')\n"
     ]
    }
   ],
   "source": [
    "for i in zip(domain,val):\n",
    "    print(i)"
   ]
  },
  {
   "cell_type": "code",
   "execution_count": 4,
   "id": "5c0909cb",
   "metadata": {},
   "outputs": [],
   "source": [
    "dest = \"/media/SSD2/Dataset/ImageNet_9/\""
   ]
  },
  {
   "cell_type": "code",
   "execution_count": 3,
   "id": "369a1c5e",
   "metadata": {},
   "outputs": [],
   "source": [
    "##########"
   ]
  },
  {
   "cell_type": "code",
   "execution_count": 14,
   "id": "9acf3e7d",
   "metadata": {},
   "outputs": [],
   "source": [
    "source = \"/media/SSD2/Dataset/ImageNet_9/un_processed\"\n",
    "destination = \"/media/SSD2/Dataset/ImageNet_9/processed\"\n",
    "tar = \"/media/SSD2/Dataset/ImageNet_9/tar_files\""
   ]
  },
  {
   "cell_type": "code",
   "execution_count": 25,
   "id": "074b7ce0",
   "metadata": {},
   "outputs": [
    {
     "data": {
      "text/plain": [
       "['00_dog',\n",
       " '05_insect',\n",
       " '01_bird',\n",
       " '02_wheeled vehicle',\n",
       " '07_primate',\n",
       " '04_carnivore',\n",
       " '08_fish',\n",
       " '03_reptile',\n",
       " '06_musical instrument']"
      ]
     },
     "execution_count": 25,
     "metadata": {},
     "output_type": "execute_result"
    }
   ],
   "source": [
    "classes = os.listdir(os.path.join(\"/media/SSD2/Dataset/ImageNet_9/tar_files\",domain[0],'val'))\n",
    "classes[0:10]"
   ]
  },
  {
   "cell_type": "code",
   "execution_count": 11,
   "id": "5695ad1d",
   "metadata": {},
   "outputs": [
    {
     "data": {
      "text/plain": [
       "['mixed_rand', 'mixed_same', 'no_fg', 'mixed_next', 'only_fg']"
      ]
     },
     "execution_count": 11,
     "metadata": {},
     "output_type": "execute_result"
    }
   ],
   "source": [
    "domain[:-1]"
   ]
  },
  {
   "cell_type": "code",
   "execution_count": 10,
   "id": "d476d4e1",
   "metadata": {},
   "outputs": [
    {
     "data": {
      "text/plain": [
       "5509"
      ]
     },
     "execution_count": 10,
     "metadata": {},
     "output_type": "execute_result"
    }
   ],
   "source": [
    "images = os.listdir(os.path.join(\"/media/SSD2/Dataset/ImageNet_9/un_processed\",domain[0],classes[0]))\n",
    "images.sort()\n",
    "len(images)"
   ]
  },
  {
   "cell_type": "code",
   "execution_count": null,
   "id": "13fb2eb0",
   "metadata": {},
   "outputs": [],
   "source": []
  },
  {
   "cell_type": "code",
   "execution_count": 16,
   "id": "99922f74",
   "metadata": {},
   "outputs": [
    {
     "data": {
      "text/plain": [
       "['n04509417_6272.jpg',\n",
       " 'n04509417_648.jpg',\n",
       " 'n04509417_6492.jpg',\n",
       " 'n04509417_6657.jpg',\n",
       " 'n04509417_767.jpg',\n",
       " 'n04509417_80.jpg',\n",
       " 'n04509417_8369.jpg',\n",
       " 'n04509417_847.jpg',\n",
       " 'n04509417_8594.jpg',\n",
       " 'n04509417_889.jpg']"
      ]
     },
     "execution_count": 16,
     "metadata": {},
     "output_type": "execute_result"
    }
   ],
   "source": [
    "images[-10:]"
   ]
  },
  {
   "cell_type": "code",
   "execution_count": 12,
   "id": "adf74a1a",
   "metadata": {},
   "outputs": [],
   "source": [
    "for d in domain[1:]:\n",
    "    for c in classes:\n",
    "        if os.listdir(os.path.join(source,domain[0],c))!=os.listdir(os.path.join(source,d,c)):\n",
    "            print(c,d)"
   ]
  },
  {
   "cell_type": "code",
   "execution_count": null,
   "id": "d4bff754",
   "metadata": {},
   "outputs": [],
   "source": [
    "for d in domain:\n",
    "    if d!=\"original\" and \n",
    "    for c in classes:\n",
    "        \n",
    "        "
   ]
  },
  {
   "cell_type": "code",
   "execution_count": 26,
   "id": "5ae0c8ae",
   "metadata": {},
   "outputs": [
    {
     "name": "stderr",
     "output_type": "stream",
     "text": [
      "domain:   0%|                                                                                                                        | 0/6 [00:00<?, ?it/s]\n",
      "classes:   0%|                                                                                                                       | 0/9 [00:00<?, ?it/s]\u001b[A\n",
      "classes:  11%|████████████▎                                                                                                  | 1/9 [00:01<00:11,  1.45s/it]\u001b[A\n",
      "classes:  22%|████████████████████████▋                                                                                      | 2/9 [00:02<00:10,  1.44s/it]\u001b[A\n",
      "classes:  33%|█████████████████████████████████████                                                                          | 3/9 [00:04<00:08,  1.44s/it]\u001b[A\n",
      "classes:  44%|█████████████████████████████████████████████████▎                                                             | 4/9 [00:05<00:07,  1.45s/it]\u001b[A\n",
      "classes:  56%|█████████████████████████████████████████████████████████████▋                                                 | 5/9 [00:07<00:05,  1.44s/it]\u001b[A\n",
      "classes:  67%|██████████████████████████████████████████████████████████████████████████                                     | 6/9 [00:08<00:04,  1.45s/it]\u001b[A\n",
      "classes:  78%|██████████████████████████████████████████████████████████████████████████████████████▎                        | 7/9 [00:10<00:02,  1.44s/it]\u001b[A\n",
      "classes:  89%|██████████████████████████████████████████████████████████████████████████████████████████████████▋            | 8/9 [00:11<00:01,  1.45s/it]\u001b[A\n",
      "classes: 100%|███████████████████████████████████████████████████████████████████████████████████████████████████████████████| 9/9 [00:13<00:00,  1.44s/it]\u001b[A\n",
      "domain:  17%|██████████████████▋                                                                                             | 1/6 [00:13<01:05, 13.01s/it]\n",
      "classes:   0%|                                                                                                                       | 0/9 [00:00<?, ?it/s]\u001b[A\n",
      "classes:  11%|████████████▎                                                                                                  | 1/9 [00:01<00:11,  1.47s/it]\u001b[A\n",
      "classes:  22%|████████████████████████▋                                                                                      | 2/9 [00:02<00:09,  1.42s/it]\u001b[A\n",
      "classes:  33%|█████████████████████████████████████                                                                          | 3/9 [00:04<00:08,  1.42s/it]\u001b[A\n",
      "classes:  44%|█████████████████████████████████████████████████▎                                                             | 4/9 [00:05<00:07,  1.45s/it]\u001b[A\n",
      "classes:  56%|█████████████████████████████████████████████████████████████▋                                                 | 5/9 [00:07<00:05,  1.47s/it]\u001b[A\n",
      "classes:  67%|██████████████████████████████████████████████████████████████████████████                                     | 6/9 [00:08<00:04,  1.47s/it]\u001b[A\n",
      "classes:  78%|██████████████████████████████████████████████████████████████████████████████████████▎                        | 7/9 [00:10<00:02,  1.46s/it]\u001b[A\n",
      "classes:  89%|██████████████████████████████████████████████████████████████████████████████████████████████████▋            | 8/9 [00:11<00:01,  1.45s/it]\u001b[A\n",
      "classes: 100%|███████████████████████████████████████████████████████████████████████████████████████████████████████████████| 9/9 [00:13<00:00,  1.45s/it]\u001b[A\n",
      "domain:  33%|█████████████████████████████████████▎                                                                          | 2/6 [00:26<00:52, 13.02s/it]\n",
      "classes:   0%|                                                                                                                       | 0/9 [00:00<?, ?it/s]\u001b[A\n",
      "classes:  11%|████████████▎                                                                                                  | 1/9 [00:03<00:31,  3.94s/it]\u001b[A\n",
      "classes:  22%|████████████████████████▋                                                                                      | 2/9 [00:08<00:29,  4.20s/it]\u001b[A\n",
      "classes:  33%|█████████████████████████████████████                                                                          | 3/9 [00:12<00:23,  4.00s/it]\u001b[A\n",
      "classes:  44%|█████████████████████████████████████████████████▎                                                             | 4/9 [00:16<00:21,  4.24s/it]\u001b[A\n",
      "classes:  56%|█████████████████████████████████████████████████████████████▋                                                 | 5/9 [00:22<00:19,  4.88s/it]\u001b[A\n",
      "classes:  67%|██████████████████████████████████████████████████████████████████████████                                     | 6/9 [00:28<00:15,  5.23s/it]\u001b[A\n",
      "classes:  78%|██████████████████████████████████████████████████████████████████████████████████████▎                        | 7/9 [00:33<00:10,  5.10s/it]\u001b[A\n",
      "classes:  89%|██████████████████████████████████████████████████████████████████████████████████████████████████▋            | 8/9 [00:37<00:04,  4.76s/it]\u001b[A\n",
      "classes: 100%|███████████████████████████████████████████████████████████████████████████████████████████████████████████████| 9/9 [00:41<00:00,  4.61s/it]\u001b[A\n",
      "domain:  50%|████████████████████████████████████████████████████████                                                        | 3/6 [01:07<01:18, 26.04s/it]\n",
      "classes:   0%|                                                                                                                       | 0/9 [00:00<?, ?it/s]\u001b[A\n",
      "classes:  11%|████████████▎                                                                                                  | 1/9 [00:01<00:11,  1.41s/it]\u001b[A\n",
      "classes:  22%|████████████████████████▋                                                                                      | 2/9 [00:02<00:09,  1.39s/it]\u001b[A\n",
      "classes:  33%|█████████████████████████████████████                                                                          | 3/9 [00:04<00:08,  1.43s/it]\u001b[A\n",
      "classes:  44%|█████████████████████████████████████████████████▎                                                             | 4/9 [00:05<00:07,  1.43s/it]\u001b[A\n",
      "classes:  56%|█████████████████████████████████████████████████████████████▋                                                 | 5/9 [00:07<00:05,  1.43s/it]\u001b[A\n",
      "classes:  67%|██████████████████████████████████████████████████████████████████████████                                     | 6/9 [00:08<00:04,  1.41s/it]\u001b[A\n",
      "classes:  78%|██████████████████████████████████████████████████████████████████████████████████████▎                        | 7/9 [00:09<00:02,  1.43s/it]\u001b[A\n",
      "classes:  89%|██████████████████████████████████████████████████████████████████████████████████████████████████▋            | 8/9 [00:11<00:01,  1.46s/it]\u001b[A\n",
      "classes: 100%|███████████████████████████████████████████████████████████████████████████████████████████████████████████████| 9/9 [00:12<00:00,  1.44s/it]\u001b[A\n",
      "domain:  67%|██████████████████████████████████████████████████████████████████████████▋                                     | 4/6 [01:20<00:41, 20.89s/it]\n",
      "classes:   0%|                                                                                                                       | 0/9 [00:00<?, ?it/s]\u001b[A\n",
      "classes:  11%|████████████▎                                                                                                  | 1/9 [00:03<00:24,  3.01s/it]\u001b[A\n",
      "classes:  22%|████████████████████████▋                                                                                      | 2/9 [00:06<00:22,  3.18s/it]\u001b[A\n",
      "classes:  33%|█████████████████████████████████████                                                                          | 3/9 [00:09<00:18,  3.00s/it]\u001b[A\n",
      "classes:  44%|█████████████████████████████████████████████████▎                                                             | 4/9 [00:12<00:16,  3.23s/it]\u001b[A\n",
      "classes:  56%|█████████████████████████████████████████████████████████████▋                                                 | 5/9 [00:17<00:14,  3.75s/it]\u001b[A\n",
      "classes:  67%|██████████████████████████████████████████████████████████████████████████                                     | 6/9 [00:21<00:12,  4.01s/it]\u001b[A\n",
      "classes:  78%|██████████████████████████████████████████████████████████████████████████████████████▎                        | 7/9 [00:25<00:07,  3.88s/it]\u001b[A\n",
      "classes:  89%|██████████████████████████████████████████████████████████████████████████████████████████████████▋            | 8/9 [00:28<00:03,  3.67s/it]\u001b[A\n",
      "classes: 100%|███████████████████████████████████████████████████████████████████████████████████████████████████████████████| 9/9 [00:31<00:00,  3.53s/it]\u001b[A\n",
      "domain:  83%|█████████████████████████████████████████████████████████████████████████████████████████████▎                  | 5/6 [01:52<00:24, 24.81s/it]\n",
      "classes:   0%|                                                                                                                       | 0/9 [00:00<?, ?it/s]\u001b[A\n",
      "classes:  11%|████████████▎                                                                                                  | 1/9 [00:04<00:34,  4.33s/it]\u001b[A\n",
      "classes:  22%|████████████████████████▋                                                                                      | 2/9 [00:08<00:31,  4.51s/it]\u001b[A\n",
      "classes:  33%|█████████████████████████████████████                                                                          | 3/9 [00:12<00:25,  4.28s/it]\u001b[A\n",
      "classes:  44%|█████████████████████████████████████████████████▎                                                             | 4/9 [00:18<00:22,  4.59s/it]\u001b[A\n",
      "classes:  56%|█████████████████████████████████████████████████████████████▋                                                 | 5/9 [00:24<00:21,  5.31s/it]\u001b[A\n",
      "classes:  67%|██████████████████████████████████████████████████████████████████████████                                     | 6/9 [00:31<00:17,  5.71s/it]\u001b[A\n",
      "classes:  78%|██████████████████████████████████████████████████████████████████████████████████████▎                        | 7/9 [00:36<00:11,  5.54s/it]\u001b[A\n",
      "classes:  89%|██████████████████████████████████████████████████████████████████████████████████████████████████▋            | 8/9 [00:40<00:05,  5.20s/it]\u001b[A\n",
      "classes: 100%|███████████████████████████████████████████████████████████████████████████████████████████████████████████████| 9/9 [00:45<00:00,  5.01s/it]\u001b[A\n",
      "domain: 100%|████████████████████████████████████████████████████████████████████████████████████████████████████████████████| 6/6 [02:37<00:00, 26.24s/it]\n"
     ]
    }
   ],
   "source": [
    "for d in tqdm(domain,desc=\"domain\"):\n",
    "    if not os.path.exists(os.path.join(destination,d)):\n",
    "        os.mkdir(os.path.join(destination,d))\n",
    "    for c in tqdm(classes,desc=\"classes\"):\n",
    "        if not os.path.exists(os.path.join(destination,d,c)):\n",
    "            os.mkdir(os.path.join(destination,d,c))\n",
    "        for image in os.listdir(os.path.join(tar,d,'val',c)):\n",
    "            im = Image.open(os.path.join(tar,d,'val',c,image))\n",
    "            rgb_im = im.convert('RGB')\n",
    "            rgb_im.save(os.path.join(destination,d,c,image.split(\".\")[0]+\".jpg\"))\n",
    "        \n",
    "    "
   ]
  },
  {
   "cell_type": "code",
   "execution_count": 27,
   "id": "f35185d3",
   "metadata": {},
   "outputs": [],
   "source": [
    "for d in domain:\n",
    "    for c in classes:\n",
    "        if len(os.listdir(os.path.join(destination,d,c)))!=465:\n",
    "            print(d,c)\n",
    "            "
   ]
  },
  {
   "cell_type": "code",
   "execution_count": 30,
   "id": "2513041b",
   "metadata": {},
   "outputs": [
    {
     "name": "stderr",
     "output_type": "stream",
     "text": [
      "classes: 100%|███████████████████████████████████████████████████████████████████████████████████████████████████████████████| 9/9 [06:21<00:00, 42.34s/it]\n"
     ]
    }
   ],
   "source": [
    "\n",
    "for c in tqdm(classes,desc=\"classes\"):\n",
    "    if not os.path.exists(os.path.join(destination,'original',c)):\n",
    "        os.mkdir(os.path.join(destination,'original',c))\n",
    "    for image in os.listdir(os.path.join(tar,'original','train',c)):\n",
    "        im = Image.open(os.path.join(tar,'original','train',c,image))\n",
    "        rgb_im = im.convert('RGB')\n",
    "        rgb_im.save(os.path.join(destination,'original',c,image.split(\".\")[0]+\".jpg\"))\n",
    "        \n",
    "    \n",
    "    "
   ]
  }
 ],
 "metadata": {
  "kernelspec": {
   "display_name": "Python 3",
   "language": "python",
   "name": "python3"
  },
  "language_info": {
   "codemirror_mode": {
    "name": "ipython",
    "version": 3
   },
   "file_extension": ".py",
   "mimetype": "text/x-python",
   "name": "python",
   "nbconvert_exporter": "python",
   "pygments_lexer": "ipython3",
   "version": "3.8.8"
  }
 },
 "nbformat": 4,
 "nbformat_minor": 5
}
